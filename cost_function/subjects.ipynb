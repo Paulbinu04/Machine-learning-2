{
 "cells": [
  {
   "cell_type": "code",
   "execution_count": 1,
   "id": "f6821961",
   "metadata": {},
   "outputs": [],
   "source": [
    "import pandas as pd\n",
    "import numpy as np\n",
    "import matplotlib.pyplot as plt\n",
    "from sklearn import linear_model"
   ]
  },
  {
   "cell_type": "code",
   "execution_count": 2,
   "id": "eddcfad2",
   "metadata": {},
   "outputs": [],
   "source": [
    "df=pd.read_csv(\"marks.csv\")\n",
    "x=df.math\n",
    "y=df.cs\n"
   ]
  },
  {
   "cell_type": "code",
   "execution_count": 3,
   "id": "0236b015",
   "metadata": {},
   "outputs": [],
   "source": [
    "m_curr=b_curr=0\n",
    "iterations=10\n",
    "cost_previous=0\n",
    "\n"
   ]
  },
  {
   "cell_type": "raw",
   "id": "0a402964",
   "metadata": {},
   "source": []
  },
  {
   "cell_type": "code",
   "execution_count": null,
   "id": "5fc493f9",
   "metadata": {},
   "outputs": [],
   "source": []
  },
  {
   "cell_type": "code",
   "execution_count": 4,
   "id": "dde90f82",
   "metadata": {},
   "outputs": [
    {
     "ename": "NameError",
     "evalue": "name 'math' is not defined",
     "output_type": "error",
     "traceback": [
      "\u001b[1;31m---------------------------------------------------------------------------\u001b[0m",
      "\u001b[1;31mNameError\u001b[0m                                 Traceback (most recent call last)",
      "Cell \u001b[1;32mIn[4], line 13\u001b[0m\n\u001b[0;32m     10\u001b[0m m_curr\u001b[38;5;241m=\u001b[39mm_curr\u001b[38;5;241m-\u001b[39mlearning_rate\u001b[38;5;241m*\u001b[39mmd\n\u001b[0;32m     11\u001b[0m b_curr \u001b[38;5;241m=\u001b[39m b_curr \u001b[38;5;241m-\u001b[39m learning_rate \u001b[38;5;241m*\u001b[39m bd\n\u001b[1;32m---> 13\u001b[0m \u001b[38;5;28;01mif\u001b[39;00m math\u001b[38;5;241m.\u001b[39misclose(cost,cost_previous,rel_tol\u001b[38;5;241m=\u001b[39m\u001b[38;5;241m1e-20\u001b[39m):\n\u001b[0;32m     14\u001b[0m     \u001b[38;5;28;01mbreak\u001b[39;00m\n\u001b[0;32m     15\u001b[0m cost_previous\u001b[38;5;241m=\u001b[39mcost\n",
      "\u001b[1;31mNameError\u001b[0m: name 'math' is not defined"
     ]
    }
   ],
   "source": [
    "n=len(x)\n",
    "learning_rate=0.01\n",
    "for i in range(iterations):\n",
    "    y_predicted=m_curr*x+b_curr\n",
    "    cost = (1/n)*sum([value**2 for value in (y-y_predicted)])\n",
    "    \n",
    "    md=-(2/n)*sum(x*(y-y_predicted))\n",
    "    bd=-(2/n)*sum(y-y_predicted)\n",
    "    \n",
    "    m_curr=m_curr-learning_rate*md\n",
    "    b_curr = b_curr - learning_rate * bd\n",
    "    \n",
    "    if math.isclose(cost,cost_previous,rel_tol=1e-20):\n",
    "        break\n",
    "    cost_previous=cost\n",
    "    "
   ]
  },
  {
   "cell_type": "code",
   "execution_count": null,
   "id": "8be907eb",
   "metadata": {},
   "outputs": [],
   "source": []
  },
  {
   "cell_type": "code",
   "execution_count": null,
   "id": "8a806b8a",
   "metadata": {},
   "outputs": [],
   "source": []
  }
 ],
 "metadata": {
  "kernelspec": {
   "display_name": "Python 3 (ipykernel)",
   "language": "python",
   "name": "python3"
  },
  "language_info": {
   "codemirror_mode": {
    "name": "ipython",
    "version": 3
   },
   "file_extension": ".py",
   "mimetype": "text/x-python",
   "name": "python",
   "nbconvert_exporter": "python",
   "pygments_lexer": "ipython3",
   "version": "3.11.4"
  }
 },
 "nbformat": 4,
 "nbformat_minor": 5
}
